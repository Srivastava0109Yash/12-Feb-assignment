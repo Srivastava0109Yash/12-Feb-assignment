{
 "cells": [
  {
   "cell_type": "markdown",
   "id": "a6c2d5bd",
   "metadata": {},
   "source": [
    "### Q1. What is an Exception in python? Write the difference between Exception and Syntax errors"
   ]
  },
  {
   "cell_type": "markdown",
   "id": "27341e46",
   "metadata": {},
   "source": [
    "An exception in Python is an error that occurs during the execution of a program. It may be due to an unexpected behavior in the code, such as dividing by zero or trying to access an element in a list with an index that is out of bounds.\n",
    "\n",
    "Exception handling is the process of catching and handling exceptions that occur during the execution of a program. This enables you to write robust and error-free code, as you can handle exceptions in a way that doesn't cause the entire program to crash.\n",
    "\n",
    "On the other hand, a syntax error in Python occurs when the code is written in an incorrect syntax. It occurs when the code does not follow the proper structure and rules of the language. For example, forgetting to include a colon at the end of an if statement or misplacing indentation are common syntax errors.\n",
    "\n",
    "In summary, exceptions are runtime errors that occur during the execution of the code, while syntax errors are compile-time errors that occur due to incorrect code structure."
   ]
  },
  {
   "cell_type": "markdown",
   "id": "5790b9dc",
   "metadata": {},
   "source": [
    "### Q2. what happens when an exception is not handled ? Explain with an example"
   ]
  },
  {
   "cell_type": "markdown",
   "id": "db09d11e",
   "metadata": {},
   "source": [
    "When an exception is not handled, the program will stop executing and raise the exception. The details of the exception, including the type of the exception and a traceback of the error, will be printed to the console. This is called an unhandled exception."
   ]
  },
  {
   "cell_type": "code",
   "execution_count": 1,
   "id": "3e96045f",
   "metadata": {},
   "outputs": [
    {
     "ename": "ZeroDivisionError",
     "evalue": "division by zero",
     "output_type": "error",
     "traceback": [
      "\u001b[1;31m---------------------------------------------------------------------------\u001b[0m",
      "\u001b[1;31mZeroDivisionError\u001b[0m                         Traceback (most recent call last)",
      "Input \u001b[1;32mIn [1]\u001b[0m, in \u001b[0;36m<cell line: 4>\u001b[1;34m()\u001b[0m\n\u001b[0;32m      1\u001b[0m \u001b[38;5;28;01mdef\u001b[39;00m \u001b[38;5;21mdivide\u001b[39m(a,b):\n\u001b[0;32m      2\u001b[0m     \u001b[38;5;28;01mreturn\u001b[39;00m a\u001b[38;5;241m/\u001b[39mb\n\u001b[1;32m----> 4\u001b[0m \u001b[38;5;28mprint\u001b[39m(\u001b[43mdivide\u001b[49m\u001b[43m(\u001b[49m\u001b[38;5;241;43m10\u001b[39;49m\u001b[43m,\u001b[49m\u001b[38;5;241;43m0\u001b[39;49m\u001b[43m)\u001b[49m)\n",
      "Input \u001b[1;32mIn [1]\u001b[0m, in \u001b[0;36mdivide\u001b[1;34m(a, b)\u001b[0m\n\u001b[0;32m      1\u001b[0m \u001b[38;5;28;01mdef\u001b[39;00m \u001b[38;5;21mdivide\u001b[39m(a,b):\n\u001b[1;32m----> 2\u001b[0m     \u001b[38;5;28;01mreturn\u001b[39;00m \u001b[43ma\u001b[49m\u001b[38;5;241;43m/\u001b[39;49m\u001b[43mb\u001b[49m\n",
      "\u001b[1;31mZeroDivisionError\u001b[0m: division by zero"
     ]
    }
   ],
   "source": [
    "def divide(a,b):\n",
    "    return a/b\n",
    "\n",
    "print(divide(10,0))"
   ]
  },
  {
   "cell_type": "markdown",
   "id": "411072c9",
   "metadata": {},
   "source": [
    "As you can see, the first call to the divide function returns the expected result, but the second call raises a ZeroDivisionError, because you are trying to divide by zero."
   ]
  },
  {
   "cell_type": "markdown",
   "id": "9c7c5aa0",
   "metadata": {},
   "source": [
    "### Q3. Which Python statement are used to catch and handle exception? Explain with an example"
   ]
  },
  {
   "cell_type": "markdown",
   "id": "ac6ae262",
   "metadata": {},
   "source": [
    "The try and except statements are used to catch and handle exceptions in Python. The try statement allows you to write code that might raise an exception, and the except statement allows you to handle the exception if one is raised."
   ]
  },
  {
   "cell_type": "code",
   "execution_count": 8,
   "id": "efc2c5a1",
   "metadata": {},
   "outputs": [
    {
     "name": "stdout",
     "output_type": "stream",
     "text": [
      "Division by zero\n",
      "44\n"
     ]
    }
   ],
   "source": [
    "try:\n",
    "    val=int(1/0)\n",
    "except ValueError:\n",
    "    print(\"Invalid Literal for int() with base 10: 'foo'\")\n",
    "    \n",
    "except ZeroDivisionError:\n",
    "    print(\"Division by zero\")\n",
    "    \n",
    "print(11+33)    "
   ]
  },
  {
   "cell_type": "markdown",
   "id": "0920d382",
   "metadata": {},
   "source": [
    "### Q4. Explain with an example:\n",
    "####    a. try and else   b. finally   c. raise"
   ]
  },
  {
   "cell_type": "markdown",
   "id": "ebc53b35",
   "metadata": {},
   "source": [
    "### a. try and else:\n",
    "The else clause in a try statement can be used to specify code that should be executed if no exceptions are raised in the try block.\n"
   ]
  },
  {
   "cell_type": "code",
   "execution_count": 9,
   "id": "1df8193b",
   "metadata": {},
   "outputs": [
    {
     "name": "stdout",
     "output_type": "stream",
     "text": [
      "5.0\n"
     ]
    }
   ],
   "source": [
    "try:\n",
    "    val=10/2\n",
    "    \n",
    "except ZeroDivisionError:\n",
    "    print(\"Division by zero\")\n",
    "    \n",
    "else:\n",
    "    print(val)"
   ]
  },
  {
   "cell_type": "markdown",
   "id": "b070a319",
   "metadata": {},
   "source": [
    "### b. finally:\n",
    "\n",
    "The finally clause in a try statement can be used to specify code that should be executed regardless of whether an exception was raised or not."
   ]
  },
  {
   "cell_type": "code",
   "execution_count": 11,
   "id": "b4981da0",
   "metadata": {},
   "outputs": [
    {
     "name": "stdout",
     "output_type": "stream",
     "text": [
      "Division by Zero\n",
      "This Final Block will be executed\n"
     ]
    }
   ],
   "source": [
    "try:\n",
    "    val=10/0\n",
    "    \n",
    "except ZeroDivisionError:\n",
    "    print(\"Division by Zero\")\n",
    "    \n",
    "finally:\n",
    "    print(\"This Final Block will be executed\")"
   ]
  },
  {
   "cell_type": "markdown",
   "id": "b9cee3c9",
   "metadata": {},
   "source": [
    "### c. raise:\n",
    "\n",
    "The raise statement allows you to raise an exception in your code. You can raise a built-in exception or create a custom exception by defining a new exception class."
   ]
  },
  {
   "cell_type": "code",
   "execution_count": 12,
   "id": "83da249a",
   "metadata": {},
   "outputs": [
    {
     "name": "stdout",
     "output_type": "stream",
     "text": [
      "Custom Error\n"
     ]
    }
   ],
   "source": [
    "def raise_except():\n",
    "    raise ValueError(\"Custom Error\")\n",
    "    \n",
    "try :\n",
    "    raise_except()\n",
    "except ValueError as e:\n",
    "    print(e)"
   ]
  },
  {
   "cell_type": "markdown",
   "id": "7934cf83",
   "metadata": {},
   "source": [
    "### Q4.What are the custom exceptions in python? why do we need the custom exception? Explain with an example"
   ]
  },
  {
   "cell_type": "markdown",
   "id": "33c7fc6d",
   "metadata": {},
   "source": [
    "Custom exceptions in Python are user-defined exceptions that can be raised and caught in the same way as built-in exceptions.\n",
    "\n",
    "Custom exceptions allow you to provide more meaningful error messages and handle specific error conditions in a way that makes sense for your application"
   ]
  },
  {
   "cell_type": "code",
   "execution_count": 14,
   "id": "82766e51",
   "metadata": {},
   "outputs": [
    {
     "name": "stdout",
     "output_type": "stream",
     "text": [
      "Input must be non negative\n"
     ]
    }
   ],
   "source": [
    "class NegativeError(Exception):\n",
    "    pass\n",
    "\n",
    "def square_root(val):\n",
    "    if val<0:\n",
    "        raise NegativeError(\"Input must be non negative\")\n",
    "        \n",
    "try:\n",
    "    result=square_root(-1)\n",
    "except NegativeError as e:\n",
    "    print(e)"
   ]
  },
  {
   "cell_type": "markdown",
   "id": "2adc88be",
   "metadata": {},
   "source": [
    "### Q6. Create a custom exception class.Use this class to handle an exception"
   ]
  },
  {
   "cell_type": "code",
   "execution_count": 17,
   "id": "a56f5e01",
   "metadata": {},
   "outputs": [
    {
     "name": "stdout",
     "output_type": "stream",
     "text": [
      "error Age must be positive number\n"
     ]
    }
   ],
   "source": [
    "class Invalid_age(Exception):\n",
    "    def __init__(self,mssg):\n",
    "        self.mssg=mssg\n",
    "        \n",
    "def val_age(age):\n",
    "    if age<0:\n",
    "        raise Invalid_age(\"Age must be positive number\")\n",
    "            \n",
    "try:\n",
    "    val_age(-1)\n",
    "    \n",
    "except Invalid_age as e:\n",
    "    print('error',e)"
   ]
  },
  {
   "cell_type": "code",
   "execution_count": null,
   "id": "466b91b4",
   "metadata": {},
   "outputs": [],
   "source": []
  }
 ],
 "metadata": {
  "kernelspec": {
   "display_name": "Python 3 (ipykernel)",
   "language": "python",
   "name": "python3"
  },
  "language_info": {
   "codemirror_mode": {
    "name": "ipython",
    "version": 3
   },
   "file_extension": ".py",
   "mimetype": "text/x-python",
   "name": "python",
   "nbconvert_exporter": "python",
   "pygments_lexer": "ipython3",
   "version": "3.9.13"
  }
 },
 "nbformat": 4,
 "nbformat_minor": 5
}
